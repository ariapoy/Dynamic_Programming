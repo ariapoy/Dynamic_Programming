{
 "metadata": {
  "name": ""
 },
 "nbformat": 3,
 "nbformat_minor": 0,
 "worksheets": [
  {
   "cells": [
    {
     "cell_type": "markdown",
     "metadata": {},
     "source": [
      "# Homework #5"
     ]
    },
    {
     "cell_type": "markdown",
     "metadata": {},
     "source": [
      "## User input"
     ]
    },
    {
     "cell_type": "code",
     "collapsed": false,
     "input": [
      "period = 10"
     ],
     "language": "python",
     "metadata": {},
     "outputs": [],
     "prompt_number": 1
    },
    {
     "cell_type": "code",
     "collapsed": false,
     "input": [
      "Demand = [200,350,220,420,400,0,100,330,250,0]\n",
      "Demand"
     ],
     "language": "python",
     "metadata": {},
     "outputs": [
      {
       "metadata": {},
       "output_type": "pyout",
       "prompt_number": 2,
       "text": [
        "[200, 350, 220, 420, 400, 0, 100, 330, 250, 0]"
       ]
      }
     ],
     "prompt_number": 2
    },
    {
     "cell_type": "code",
     "collapsed": false,
     "input": [
      "cost_ordered = 10\n",
      "cost_ordered"
     ],
     "language": "python",
     "metadata": {},
     "outputs": [
      {
       "metadata": {},
       "output_type": "pyout",
       "prompt_number": 3,
       "text": [
        "10"
       ]
      }
     ],
     "prompt_number": 3
    },
    {
     "cell_type": "code",
     "collapsed": false,
     "input": [
      "cost_fixed = 70\n",
      "cost_fixed"
     ],
     "language": "python",
     "metadata": {},
     "outputs": [
      {
       "metadata": {},
       "output_type": "pyout",
       "prompt_number": 4,
       "text": [
        "70"
       ]
      }
     ],
     "prompt_number": 4
    },
    {
     "cell_type": "code",
     "collapsed": false,
     "input": [
      "cost_hoding = 30\n",
      "cost_hoding"
     ],
     "language": "python",
     "metadata": {},
     "outputs": [
      {
       "metadata": {},
       "output_type": "pyout",
       "prompt_number": 5,
       "text": [
        "30"
       ]
      }
     ],
     "prompt_number": 5
    },
    {
     "cell_type": "markdown",
     "metadata": {},
     "source": [
      "## Use forward recursive method for this dynamic programming"
     ]
    },
    {
     "cell_type": "markdown",
     "metadata": {},
     "source": [
      "### odering cost function"
     ]
    },
    {
     "cell_type": "code",
     "collapsed": false,
     "input": [
      "def Cost(n):\n",
      "    if n :\n",
      "        return cost_ordered * n   +   cost_fixed\n",
      "    else:\n",
      "        return 0\n",
      "\n",
      "def Hoding(n):\n",
      "    return cost_hoding * n"
     ],
     "language": "python",
     "metadata": {},
     "outputs": [],
     "prompt_number": 6
    },
    {
     "cell_type": "markdown",
     "metadata": {},
     "source": [
      "### Initial setup"
     ]
    },
    {
     "cell_type": "code",
     "collapsed": false,
     "input": [
      "Ans = []\n",
      "\n",
      "d = Demand[0]\n",
      "s = min(sum(Demand[1:]),500)\n",
      "ans = []\n",
      "for j in xrange(s+1):\n",
      "    z = j+d\n",
      "    k = z\n",
      "    ans.append((Hoding(j)+Cost(k),(d,k,j)))\n",
      "    \n",
      "        \n",
      "Ans += [ans]"
     ],
     "language": "python",
     "metadata": {},
     "outputs": [],
     "prompt_number": 7
    },
    {
     "cell_type": "markdown",
     "metadata": {},
     "source": [
      "## Do recursive"
     ]
    },
    {
     "cell_type": "markdown",
     "metadata": {},
     "source": [
      "#### \u8a08\u7b97\u6700\u4f73\u503c"
     ]
    },
    {
     "cell_type": "code",
     "collapsed": false,
     "input": [
      "for i in xrange(1,period):\n",
      "    d = Demand[i]\n",
      "    s = min(sum(Demand[ i+1 :]),500)\n",
      "\n",
      "    ans = []\n",
      "    \n",
      "    for j in xrange(s+1):\n",
      "        z = j + d\n",
      "        Temp = []\n",
      "        Temp1 = []\n",
      "        \n",
      "        for k in xrange(max(z-500,0),z+1):\n",
      "            Temp.append(Hoding(j)+Cost(k)+Ans[-1][j-k+d][0])\n",
      "            Temp1.append((d,k,j))\n",
      "            \n",
      "        #print Temp\n",
      "        \n",
      "        ans.append((min(Temp),Temp1[Temp.index(min(Temp))]  ))\n",
      "        \n",
      "    Ans += [ans]\n"
     ],
     "language": "python",
     "metadata": {},
     "outputs": [],
     "prompt_number": 8
    },
    {
     "cell_type": "markdown",
     "metadata": {},
     "source": [
      "#### \u8a18\u9304\u6700\u4f73\u6c7a\u7b56"
     ]
    },
    {
     "cell_type": "code",
     "collapsed": false,
     "input": [
      "Policy = []\n",
      "a = Ans[-1][0][1]\n",
      "x = a[0]-a[1]+a[2]\n",
      "Policy.append(a[1])\n",
      "for i in xrange(-2,-period,-1):\n",
      "    a = Ans[i][x][1]\n",
      "    x = a[0]-a[1]+a[2]\n",
      "    Policy.append(a[1])\n",
      "\n",
      "Policy.reverse()"
     ],
     "language": "python",
     "metadata": {},
     "outputs": [],
     "prompt_number": 9
    },
    {
     "cell_type": "markdown",
     "metadata": {},
     "source": [
      "### \u7d50\u679c\uff1a"
     ]
    },
    {
     "cell_type": "code",
     "collapsed": false,
     "input": [
      "print Ans[-1][0][0], Policy"
     ],
     "language": "python",
     "metadata": {},
     "outputs": [
      {
       "output_type": "stream",
       "stream": "stdout",
       "text": [
        "23260 [350, 220, 420, 400, 0, 100, 330, 250, 0]\n"
       ]
      }
     ],
     "prompt_number": 12
    },
    {
     "cell_type": "code",
     "collapsed": false,
     "input": [],
     "language": "python",
     "metadata": {},
     "outputs": []
    }
   ],
   "metadata": {}
  }
 ]
}